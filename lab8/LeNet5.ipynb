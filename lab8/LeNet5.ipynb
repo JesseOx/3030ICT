{
  "cells": [
    {
      "cell_type": "markdown",
      "metadata": {
        "id": "EDbJWoO1yO8e"
      },
      "source": [
        "# Image Classification with CNN - LeNet5 architecture"
      ]
    },
    {
      "cell_type": "markdown",
      "metadata": {
        "id": "JzQxqD6HyO8i"
      },
      "source": [
        "In this exercise, we will apply the LeNet5 algorithm to the Fashion MNIST dataset and improve your performances."
      ]
    },
    {
      "cell_type": "markdown",
      "metadata": {
        "id": "XFyVotRvyO8j"
      },
      "source": [
        "We will first download the data:"
      ]
    },
    {
      "cell_type": "code",
      "execution_count": 2,
      "metadata": {
        "colab": {
          "base_uri": "https://localhost:8080/"
        },
        "id": "RTHLyL1fyO8j",
        "outputId": "58ce3fa3-5bd7-438f-9dde-1e3e4d418259",
        "scrolled": true
      },
      "outputs": [
        {
          "output_type": "stream",
          "name": "stdout",
          "text": [
            "Downloading data from https://storage.googleapis.com/tensorflow/tf-keras-datasets/train-labels-idx1-ubyte.gz\n",
            "32768/29515 [=================================] - 0s 0us/step\n",
            "40960/29515 [=========================================] - 0s 0us/step\n",
            "Downloading data from https://storage.googleapis.com/tensorflow/tf-keras-datasets/train-images-idx3-ubyte.gz\n",
            "26427392/26421880 [==============================] - 0s 0us/step\n",
            "26435584/26421880 [==============================] - 0s 0us/step\n",
            "Downloading data from https://storage.googleapis.com/tensorflow/tf-keras-datasets/t10k-labels-idx1-ubyte.gz\n",
            "16384/5148 [===============================================================================================] - 0s 0us/step\n",
            "Downloading data from https://storage.googleapis.com/tensorflow/tf-keras-datasets/t10k-images-idx3-ubyte.gz\n",
            "4423680/4422102 [==============================] - 0s 0us/step\n",
            "4431872/4422102 [==============================] - 0s 0us/step\n"
          ]
        },
        {
          "output_type": "execute_result",
          "data": {
            "text/plain": [
              "(60000, 28, 28)"
            ]
          },
          "metadata": {},
          "execution_count": 2
        }
      ],
      "source": [
        "# TODO: Load the dataset\n",
        "from tensorflow.keras.datasets import fashion_mnist\n",
        "\n",
        "(X_train, y_train), (X_test, y_test) = fashion_mnist.load_data()\n",
        "\n",
        "# # # If your computer is slow, try to use a subset of data, e.g.\n",
        "# X_train = X_train[:10000]\n",
        "# y_train = y_train[:10000]\n",
        "# X_test = X_test[:2000]\n",
        "# y_test = y_test[:2000]\n",
        "X_train.shape"
      ]
    },
    {
      "cell_type": "markdown",
      "metadata": {
        "id": "c8ShXIANyO8l"
      },
      "source": [
        "As you already know, this dataset contains 10 classes:\n",
        "* 0:\tT-shirt/top\n",
        "* 1:\tTrouser\n",
        "* 2:\tPullover\n",
        "* 3:\tDress\n",
        "* 4:\tCoat\n",
        "* 5:\tSandal\n",
        "* 6:\tShirt\n",
        "* 7:\tSneaker\n",
        "* 8:\tBag\n",
        "* 9:\tAnkle boot"
      ]
    },
    {
      "cell_type": "markdown",
      "metadata": {
        "id": "_BvNG0PbyO8l"
      },
      "source": [
        "You can have a look at some images if needed, even if you already know them."
      ]
    },
    {
      "cell_type": "code",
      "execution_count": 3,
      "metadata": {
        "colab": {
          "base_uri": "https://localhost:8080/",
          "height": 281
        },
        "id": "lnjqgv-GyO8m",
        "outputId": "7e8217b4-4cb6-4944-bab8-66491bc32e24",
        "scrolled": true
      },
      "outputs": [
        {
          "output_type": "display_data",
          "data": {
            "text/plain": [
              "<Figure size 432x288 with 1 Axes>"
            ],
            "image/png": "[encoded data removed]"
          },
          "metadata": {
            "needs_background": "light"
          }
        }
      ],
      "source": [
        "# TODO: Explore the data, display some input images\n",
        "%matplotlib inline\n",
        "import matplotlib.pyplot as plt\n",
        "import numpy as np\n",
        "\n",
        "label_class = ['top', 'trouser', 'pullover', 'dress', 'coat', 'sandal', 'shirt', 'sneaker', 'bag', 'ankle boot']\n",
        "\n",
        "idx = np.random.randint(X_train.shape[0])\n",
        "\n",
        "plt.imshow(X_train[idx], cmap=\"gray_r\")\n",
        "plt.title(label_class[y_train[idx]])\n",
        "plt.show()"
      ]
    },
    {
      "cell_type": "markdown",
      "metadata": {
        "id": "AdYH6XW1yO8n"
      },
      "source": [
        "Make the data preparation and preprocessing: scale and reshape the data, put the labels to the good shape."
      ]
    },
    {
      "cell_type": "code",
      "execution_count": 4,
      "metadata": {
        "id": "fjv8XMPByO8o",
        "colab": {
          "base_uri": "https://localhost:8080/"
        },
        "outputId": "41d0a825-b28e-43fa-f121-f58ea4a17456"
      },
      "outputs": [
        {
          "output_type": "execute_result",
          "data": {
            "text/plain": [
              "(60000, 28, 28, 1)"
            ]
          },
          "metadata": {},
          "execution_count": 4
        }
      ],
      "source": [
        "# TODO: Make the data preparation\n",
        "from tensorflow.keras.utils import to_categorical\n",
        "\n",
        "y_train_cat = to_categorical(y_train, num_classes=10)\n",
        "y_test_cat = to_categorical(y_test, num_classes=10)\n",
        "\n",
        "# Normalize so results is not 0,255 (RBG), but rather from 0,1\n",
        "X_train_norm = X_train/255\n",
        "X_test_norm = X_test/255\n",
        "\n",
        "\n",
        "X_train_norm = X_train_norm.reshape(X_train_norm.shape[0], 28, 28, 1)\n",
        "X_test_norm = X_test_norm.reshape(X_test_norm.shape[0], 28, 28, 1)\n",
        "\n",
        "X_train_norm.shape #Should be (60000, 28, 28, 1)\n",
        "\n",
        "# Since this is a convulutional neural network we are looking at boxes and not just the pixel numbers in one long array so orientation does matter, therefore we keep it in its original 28x28"
      ]
    },
    {
      "cell_type": "markdown",
      "metadata": {
        "id": "y9LKzxR9yO8o"
      },
      "source": [
        "Now build the LeNet5 architecture. You can reuse the one of the course, or try to build it by yourself.\n",
        "\n",
        "The architecture is the following:\n",
        "\n",
        "<p align=\"center\">\n",
        "<img src=\"https://drive.google.com/uc?export=view&id=1WteTU2FPIVMkBKmMxGpFm5OjsX-szTbB\">\n",
        "</p>"
      ]
    },
    {
      "cell_type": "code",
      "execution_count": 5,
      "metadata": {
        "id": "GKyMFlL6yO8o",
        "colab": {
          "base_uri": "https://localhost:8080/"
        },
        "outputId": "b427e985-5931-48cc-c33a-23075ed5149c"
      },
      "outputs": [
        {
          "output_type": "stream",
          "name": "stdout",
          "text": [
            "Model: \"sequential\"\n",
            "_________________________________________________________________\n",
            " Layer (type)                Output Shape              Param #   \n",
            "=================================================================\n",
            " C1 (Conv2D)                 (None, 26, 26, 6)         60        \n",
            "                                                                 \n",
            " S2 (MaxPooling2D)           (None, 13, 13, 6)         0         \n",
            "                                                                 \n",
            " C3 (Conv2D)                 (None, 11, 11, 16)        880       \n",
            "                                                                 \n",
            " S4 (MaxPooling2D)           (None, 5, 5, 16)          0         \n",
            "                                                                 \n",
            " flatten (Flatten)           (None, 400)               0         \n",
            "                                                                 \n",
            " C5 (Dense)                  (None, 120)               48120     \n",
            "                                                                 \n",
            " F6 (Dense)                  (None, 84)                10164     \n",
            "                                                                 \n",
            " dense (Dense)               (None, 10)                850       \n",
            "                                                                 \n",
            "=================================================================\n",
            "Total params: 60,074\n",
            "Trainable params: 60,074\n",
            "Non-trainable params: 0\n",
            "_________________________________________________________________\n"
          ]
        }
      ],
      "source": [
        "# TODO: Build your model\n",
        "# Look at the above architecture and build the model accordingly\n",
        "# Conv2D is the convolutions, MaxPooling is the subsampling, flatten is such, C5 layer is the dense function like we used for the regular NN\n",
        "from tensorflow.keras.models import Sequential\n",
        "from tensorflow.keras.layers import MaxPooling2D, Conv2D, Flatten, Dense\n",
        "\n",
        "\n",
        "def lenet5():\n",
        "    \n",
        "    model = Sequential()\n",
        "\n",
        "    # Layer C1\n",
        "    model.add(Conv2D(filters=6, name='C1', kernel_size=(3, 3), activation='relu', input_shape=(28,28,1)))\n",
        "    # Layer S2\n",
        "    model.add(MaxPooling2D(pool_size=(2, 2), name='S2'))\n",
        "    # Layer C3\n",
        "    model.add(Conv2D(filters=16, name='C3', kernel_size=(3, 3), activation='relu'))\n",
        "    # Layer S4\n",
        "    model.add(MaxPooling2D(pool_size=(2, 2), name='S4'))\n",
        "    # Before going into layer C5, we flatten our units\n",
        "    model.add(Flatten())\n",
        "    # Layer C5\n",
        "    model.add(Dense(120, activation='relu', name='C5'))\n",
        "    # Layer F6\n",
        "    model.add(Dense(84, activation='relu', name='F6'))\n",
        "    # Output layer\n",
        "    model.add(Dense(units=10, activation = 'softmax'))\n",
        "    \n",
        "    return model\n",
        "\n",
        "lenet5().summary()"
      ]
    },
    {
      "cell_type": "markdown",
      "metadata": {
        "id": "i1qBEauqyO8p"
      },
      "source": [
        "Now compile and fit your model on your training data. Since this is a multiclass classification, the loss is not `binary_crossentropy` anymore, but `categorical_crossentropy`."
      ]
    },
    {
      "cell_type": "code",
      "execution_count": 6,
      "metadata": {
        "colab": {
          "base_uri": "https://localhost:8080/"
        },
        "id": "nPL3aKnyyO8p",
        "outputId": "5e8fd647-b261-4978-87e7-59fe689383f7",
        "scrolled": true
      },
      "outputs": [
        {
          "output_type": "stream",
          "name": "stdout",
          "text": [
            "Epoch 1/100\n",
            "30/30 [==============================] - 12s 29ms/step - loss: 1.5902 - accuracy: 0.5123 - val_loss: 0.8570 - val_accuracy: 0.6900\n",
            "Epoch 2/100\n",
            "30/30 [==============================] - 0s 13ms/step - loss: 0.7004 - accuracy: 0.7419 - val_loss: 0.6349 - val_accuracy: 0.7637\n",
            "Epoch 3/100\n",
            "30/30 [==============================] - 0s 13ms/step - loss: 0.5750 - accuracy: 0.7829 - val_loss: 0.5670 - val_accuracy: 0.7871\n",
            "Epoch 4/100\n",
            "30/30 [==============================] - 0s 14ms/step - loss: 0.5203 - accuracy: 0.8066 - val_loss: 0.5209 - val_accuracy: 0.8068\n",
            "Epoch 5/100\n",
            "30/30 [==============================] - 0s 13ms/step - loss: 0.4849 - accuracy: 0.8226 - val_loss: 0.4951 - val_accuracy: 0.8145\n",
            "Epoch 6/100\n",
            "30/30 [==============================] - 0s 14ms/step - loss: 0.4626 - accuracy: 0.8313 - val_loss: 0.4865 - val_accuracy: 0.8204\n",
            "Epoch 7/100\n",
            "30/30 [==============================] - 0s 13ms/step - loss: 0.4434 - accuracy: 0.8393 - val_loss: 0.4594 - val_accuracy: 0.8295\n",
            "Epoch 8/100\n",
            "30/30 [==============================] - 0s 13ms/step - loss: 0.4250 - accuracy: 0.8458 - val_loss: 0.4450 - val_accuracy: 0.8359\n",
            "Epoch 9/100\n",
            "30/30 [==============================] - 0s 14ms/step - loss: 0.4133 - accuracy: 0.8506 - val_loss: 0.4440 - val_accuracy: 0.8361\n",
            "Epoch 10/100\n",
            "30/30 [==============================] - 0s 14ms/step - loss: 0.4052 - accuracy: 0.8537 - val_loss: 0.4323 - val_accuracy: 0.8435\n",
            "Epoch 11/100\n",
            "30/30 [==============================] - 0s 14ms/step - loss: 0.3927 - accuracy: 0.8577 - val_loss: 0.4241 - val_accuracy: 0.8456\n",
            "Epoch 12/100\n",
            "30/30 [==============================] - 0s 14ms/step - loss: 0.3836 - accuracy: 0.8613 - val_loss: 0.4049 - val_accuracy: 0.8556\n",
            "Epoch 13/100\n",
            "30/30 [==============================] - 0s 14ms/step - loss: 0.3774 - accuracy: 0.8637 - val_loss: 0.4128 - val_accuracy: 0.8507\n",
            "Epoch 14/100\n",
            "30/30 [==============================] - 0s 13ms/step - loss: 0.3722 - accuracy: 0.8650 - val_loss: 0.4011 - val_accuracy: 0.8563\n",
            "Epoch 15/100\n",
            "30/30 [==============================] - 0s 13ms/step - loss: 0.3658 - accuracy: 0.8674 - val_loss: 0.4006 - val_accuracy: 0.8561\n",
            "Epoch 16/100\n",
            "30/30 [==============================] - 0s 14ms/step - loss: 0.3578 - accuracy: 0.8705 - val_loss: 0.3837 - val_accuracy: 0.8637\n",
            "Epoch 17/100\n",
            "30/30 [==============================] - 0s 14ms/step - loss: 0.3514 - accuracy: 0.8737 - val_loss: 0.3962 - val_accuracy: 0.8558\n",
            "Epoch 18/100\n",
            "30/30 [==============================] - 0s 14ms/step - loss: 0.3499 - accuracy: 0.8738 - val_loss: 0.3814 - val_accuracy: 0.8621\n",
            "Epoch 19/100\n",
            "30/30 [==============================] - 0s 14ms/step - loss: 0.3471 - accuracy: 0.8722 - val_loss: 0.3710 - val_accuracy: 0.8671\n",
            "Epoch 20/100\n",
            "30/30 [==============================] - 0s 14ms/step - loss: 0.3354 - accuracy: 0.8795 - val_loss: 0.3709 - val_accuracy: 0.8689\n",
            "Epoch 21/100\n",
            "30/30 [==============================] - 0s 14ms/step - loss: 0.3318 - accuracy: 0.8796 - val_loss: 0.3657 - val_accuracy: 0.8693\n",
            "Epoch 22/100\n",
            "30/30 [==============================] - 0s 13ms/step - loss: 0.3247 - accuracy: 0.8826 - val_loss: 0.3609 - val_accuracy: 0.8690\n",
            "Epoch 23/100\n",
            "30/30 [==============================] - 0s 14ms/step - loss: 0.3207 - accuracy: 0.8839 - val_loss: 0.3674 - val_accuracy: 0.8647\n",
            "Epoch 24/100\n",
            "30/30 [==============================] - 0s 14ms/step - loss: 0.3263 - accuracy: 0.8798 - val_loss: 0.3663 - val_accuracy: 0.8688\n",
            "Epoch 25/100\n",
            "30/30 [==============================] - 0s 14ms/step - loss: 0.3147 - accuracy: 0.8861 - val_loss: 0.3530 - val_accuracy: 0.8721\n",
            "Epoch 26/100\n",
            "30/30 [==============================] - 0s 14ms/step - loss: 0.3109 - accuracy: 0.8880 - val_loss: 0.3522 - val_accuracy: 0.8743\n",
            "Epoch 27/100\n",
            "30/30 [==============================] - 0s 14ms/step - loss: 0.3098 - accuracy: 0.8866 - val_loss: 0.3496 - val_accuracy: 0.8763\n",
            "Epoch 28/100\n",
            "30/30 [==============================] - 0s 16ms/step - loss: 0.3026 - accuracy: 0.8906 - val_loss: 0.3443 - val_accuracy: 0.8766\n",
            "Epoch 29/100\n",
            "30/30 [==============================] - 1s 19ms/step - loss: 0.3043 - accuracy: 0.8889 - val_loss: 0.3483 - val_accuracy: 0.8739\n",
            "Epoch 30/100\n",
            "30/30 [==============================] - 1s 20ms/step - loss: 0.2977 - accuracy: 0.8926 - val_loss: 0.3409 - val_accuracy: 0.8759\n",
            "Epoch 31/100\n",
            "30/30 [==============================] - 1s 20ms/step - loss: 0.2920 - accuracy: 0.8944 - val_loss: 0.3338 - val_accuracy: 0.8793\n",
            "Epoch 32/100\n",
            "30/30 [==============================] - 1s 19ms/step - loss: 0.2904 - accuracy: 0.8945 - val_loss: 0.3318 - val_accuracy: 0.8802\n",
            "Epoch 33/100\n",
            "30/30 [==============================] - 1s 24ms/step - loss: 0.2860 - accuracy: 0.8957 - val_loss: 0.3333 - val_accuracy: 0.8787\n",
            "Epoch 34/100\n",
            "30/30 [==============================] - 1s 19ms/step - loss: 0.2848 - accuracy: 0.8963 - val_loss: 0.3288 - val_accuracy: 0.8812\n",
            "Epoch 35/100\n",
            "30/30 [==============================] - 1s 19ms/step - loss: 0.2821 - accuracy: 0.8969 - val_loss: 0.3348 - val_accuracy: 0.8798\n",
            "Epoch 36/100\n",
            "30/30 [==============================] - 1s 19ms/step - loss: 0.2792 - accuracy: 0.8984 - val_loss: 0.3267 - val_accuracy: 0.8818\n",
            "Epoch 37/100\n",
            "30/30 [==============================] - 1s 20ms/step - loss: 0.2768 - accuracy: 0.8987 - val_loss: 0.3278 - val_accuracy: 0.8807\n",
            "Epoch 38/100\n",
            "30/30 [==============================] - 1s 19ms/step - loss: 0.2745 - accuracy: 0.9001 - val_loss: 0.3256 - val_accuracy: 0.8816\n",
            "Epoch 39/100\n",
            "30/30 [==============================] - 1s 22ms/step - loss: 0.2729 - accuracy: 0.9001 - val_loss: 0.3281 - val_accuracy: 0.8801\n",
            "Epoch 40/100\n",
            "30/30 [==============================] - 1s 20ms/step - loss: 0.2712 - accuracy: 0.9005 - val_loss: 0.3190 - val_accuracy: 0.8853\n",
            "Epoch 41/100\n",
            "30/30 [==============================] - 1s 19ms/step - loss: 0.2666 - accuracy: 0.9032 - val_loss: 0.3242 - val_accuracy: 0.8811\n",
            "Epoch 42/100\n",
            "30/30 [==============================] - 1s 20ms/step - loss: 0.2676 - accuracy: 0.9024 - val_loss: 0.3283 - val_accuracy: 0.8799\n",
            "Epoch 43/100\n",
            "30/30 [==============================] - 1s 17ms/step - loss: 0.2647 - accuracy: 0.9035 - val_loss: 0.3170 - val_accuracy: 0.8890\n",
            "Epoch 44/100\n",
            "30/30 [==============================] - 1s 22ms/step - loss: 0.2618 - accuracy: 0.9048 - val_loss: 0.3356 - val_accuracy: 0.8792\n",
            "Epoch 45/100\n",
            "30/30 [==============================] - 1s 24ms/step - loss: 0.2617 - accuracy: 0.9043 - val_loss: 0.3170 - val_accuracy: 0.8858\n",
            "Epoch 46/100\n",
            "30/30 [==============================] - 1s 24ms/step - loss: 0.2570 - accuracy: 0.9060 - val_loss: 0.3149 - val_accuracy: 0.8883\n",
            "Epoch 47/100\n",
            "30/30 [==============================] - 1s 21ms/step - loss: 0.2539 - accuracy: 0.9078 - val_loss: 0.3214 - val_accuracy: 0.8854\n",
            "Epoch 48/100\n",
            "30/30 [==============================] - 0s 15ms/step - loss: 0.2514 - accuracy: 0.9087 - val_loss: 0.3088 - val_accuracy: 0.8908\n",
            "Epoch 49/100\n",
            "30/30 [==============================] - 0s 15ms/step - loss: 0.2483 - accuracy: 0.9093 - val_loss: 0.3065 - val_accuracy: 0.8914\n",
            "Epoch 50/100\n",
            "30/30 [==============================] - 0s 14ms/step - loss: 0.2469 - accuracy: 0.9102 - val_loss: 0.3084 - val_accuracy: 0.8893\n",
            "Epoch 51/100\n",
            "30/30 [==============================] - 0s 14ms/step - loss: 0.2478 - accuracy: 0.9095 - val_loss: 0.3157 - val_accuracy: 0.8880\n",
            "Epoch 52/100\n",
            "30/30 [==============================] - 0s 14ms/step - loss: 0.2489 - accuracy: 0.9085 - val_loss: 0.3243 - val_accuracy: 0.8832\n",
            "Epoch 53/100\n",
            "30/30 [==============================] - 0s 14ms/step - loss: 0.2502 - accuracy: 0.9079 - val_loss: 0.3081 - val_accuracy: 0.8902\n",
            "Epoch 54/100\n",
            "30/30 [==============================] - 0s 15ms/step - loss: 0.2441 - accuracy: 0.9111 - val_loss: 0.3043 - val_accuracy: 0.8908\n",
            "Epoch 55/100\n",
            "30/30 [==============================] - 0s 14ms/step - loss: 0.2377 - accuracy: 0.9132 - val_loss: 0.2998 - val_accuracy: 0.8945\n",
            "Epoch 56/100\n",
            "30/30 [==============================] - 0s 16ms/step - loss: 0.2373 - accuracy: 0.9127 - val_loss: 0.3128 - val_accuracy: 0.8903\n",
            "Epoch 57/100\n",
            "30/30 [==============================] - 0s 14ms/step - loss: 0.2353 - accuracy: 0.9136 - val_loss: 0.3051 - val_accuracy: 0.8904\n",
            "Epoch 58/100\n",
            "30/30 [==============================] - 0s 14ms/step - loss: 0.2339 - accuracy: 0.9150 - val_loss: 0.3016 - val_accuracy: 0.8940\n",
            "Epoch 59/100\n",
            "30/30 [==============================] - 0s 14ms/step - loss: 0.2313 - accuracy: 0.9156 - val_loss: 0.3097 - val_accuracy: 0.8910\n",
            "Epoch 60/100\n",
            "30/30 [==============================] - 0s 14ms/step - loss: 0.2301 - accuracy: 0.9159 - val_loss: 0.2964 - val_accuracy: 0.8959\n",
            "Epoch 61/100\n",
            "30/30 [==============================] - 1s 18ms/step - loss: 0.2283 - accuracy: 0.9168 - val_loss: 0.3128 - val_accuracy: 0.8890\n",
            "Epoch 62/100\n",
            "30/30 [==============================] - 1s 22ms/step - loss: 0.2256 - accuracy: 0.9173 - val_loss: 0.2988 - val_accuracy: 0.8947\n",
            "Epoch 63/100\n",
            "30/30 [==============================] - 1s 19ms/step - loss: 0.2264 - accuracy: 0.9172 - val_loss: 0.3030 - val_accuracy: 0.8916\n",
            "Epoch 64/100\n",
            "30/30 [==============================] - 1s 21ms/step - loss: 0.2268 - accuracy: 0.9172 - val_loss: 0.3051 - val_accuracy: 0.8921\n",
            "Epoch 65/100\n",
            "30/30 [==============================] - 1s 20ms/step - loss: 0.2251 - accuracy: 0.9168 - val_loss: 0.2981 - val_accuracy: 0.8954\n",
            "Epoch 66/100\n",
            "30/30 [==============================] - 1s 19ms/step - loss: 0.2252 - accuracy: 0.9170 - val_loss: 0.2980 - val_accuracy: 0.8943\n",
            "Epoch 67/100\n",
            "30/30 [==============================] - 1s 23ms/step - loss: 0.2206 - accuracy: 0.9193 - val_loss: 0.3091 - val_accuracy: 0.8907\n",
            "Epoch 68/100\n",
            "30/30 [==============================] - 1s 23ms/step - loss: 0.2196 - accuracy: 0.9190 - val_loss: 0.2968 - val_accuracy: 0.8945\n",
            "Epoch 69/100\n",
            "30/30 [==============================] - 1s 27ms/step - loss: 0.2157 - accuracy: 0.9209 - val_loss: 0.3046 - val_accuracy: 0.8932\n",
            "Epoch 70/100\n",
            "30/30 [==============================] - 1s 22ms/step - loss: 0.2155 - accuracy: 0.9207 - val_loss: 0.3048 - val_accuracy: 0.8944\n"
          ]
        },
        {
          "output_type": "execute_result",
          "data": {
            "text/plain": [
              "<keras.callbacks.History at 0x7fac4036e2d0>"
            ]
          },
          "metadata": {},
          "execution_count": 6
        }
      ],
      "source": [
        "# TODO: Compile and fit your model\n",
        "import os\n",
        "\n",
        "# os.environ['KMP_DUPLICATE_LIB_OK']='True' #https://stackoverflow.com/questions/53014306/error-15-initializing-libiomp5-dylib-but-found-libiomp5-dylib-already-initial\n",
        "\n",
        "\n",
        "from tensorflow.keras.callbacks import EarlyStopping\n",
        "from tensorflow.keras.callbacks import TensorBoard\n",
        "\n",
        "model = lenet5()\n",
        "\n",
        "model.compile(optimizer='adam', loss='categorical_crossentropy', metrics=['accuracy'])\n",
        "\n",
        "# Define now our callbacks\n",
        "# callbacks = [EarlyStopping(monitor='val_loss', patience=10), TensorBoard(log_dir='./keras-logs', histogram_freq=0, write_graph=True, write_images=True)]\n",
        "callbacks = [EarlyStopping(monitor='val_loss', patience=10)]\n",
        "\n",
        "# Finally fit the model\n",
        "model.fit(x=X_train_norm, y=y_train_cat, validation_data=(X_test_norm, y_test_cat), epochs=100, batch_size=2048, callbacks=callbacks)"
      ]
    },
    {
      "cell_type": "markdown",
      "metadata": {
        "id": "Rf-SqjjOyO8q"
      },
      "source": [
        "Have a look at the tensorboard and see if it gives a deeper understanding of your model."
      ]
    },
    {
      "cell_type": "markdown",
      "metadata": {
        "id": "k2FTj7TSyO8q"
      },
      "source": [
        "Compute then the accuracy of your model. Is it better than a regular MLP used before?"
      ]
    },
    {
      "cell_type": "code",
      "execution_count": 8,
      "metadata": {
        "colab": {
          "base_uri": "https://localhost:8080/"
        },
        "id": "rPjJoMQZyO8q",
        "outputId": "c9afbab0-cfc2-45ce-a8e3-5c9df65e4c3a"
      },
      "outputs": [
        {
          "output_type": "stream",
          "name": "stdout",
          "text": [
            "accuracy on train with CNN: 0.9198666666666667\n",
            "accuracy on test with CNN: 0.8944\n"
          ]
        }
      ],
      "source": [
        "# TODO: Compute the accuracy of your model\n",
        "from sklearn.metrics import accuracy_score\n",
        "\n",
        "batch_size = 1024\n",
        "y_pred_train = to_categorical(model.predict(X_train_norm, batch_size=batch_size).argmax(axis=1), num_classes=10)\n",
        "y_pred_test = to_categorical(model.predict(X_test_norm, batch_size=batch_size).argmax(axis=1), num_classes=10)\n",
        "\n",
        "print('accuracy on train with CNN:', accuracy_score(y_pred_train, y_train_cat))\n",
        "print('accuracy on test with CNN:', accuracy_score(y_pred_test, y_test_cat))"
      ]
    },
    {
      "cell_type": "markdown",
      "metadata": {
        "id": "1vulsgHiyO8q"
      },
      "source": [
        "We will now add image augmentation to improve our results, especially we will try to reduce overfitting this way.\n",
        "\n",
        "To do so, you can use `ImageDataGenerator` from Keras that makes all the work for you (including rescaling), with the following parameter: \n",
        "* `horizontal_flip=True`\n",
        "\n",
        "For more info about how the `ImageDataGenerator` works, you can check out [this article](https://www.pyimagesearch.com/2019/07/08/keras-imagedatagenerator-and-data-augmentation/).\n",
        "\n",
        "Begin by creating an object `ImageDataGenerator` with this parameter."
      ]
    },
    {
      "cell_type": "code",
      "execution_count": 9,
      "metadata": {
        "ExecuteTime": {
          "end_time": "2020-08-19T11:58:37.442182Z",
          "start_time": "2020-08-19T11:58:37.438397Z"
        },
        "id": "pas-fMSIyO8q"
      },
      "outputs": [],
      "source": [
        "# TODO: Instantiate an ImageDataGenerator object\n",
        "from tensorflow.keras.preprocessing.image import ImageDataGenerator\n",
        "\n",
        "datagen = ImageDataGenerator(horizontal_flip=True)\n",
        "\n",
        "# Here are are augmenting (flipping horizontally in this case) the images and retraining the CNN to improve results and curb overfitting"
      ]
    },
    {
      "cell_type": "markdown",
      "metadata": {
        "id": "k7nCnu9syO8r"
      },
      "source": [
        "Finally, you can train your model using this generator, with the method `fit_generator` of your model and the method `flow` of your `ImageDataGenerator`."
      ]
    },
    {
      "cell_type": "code",
      "execution_count": 12,
      "metadata": {
        "colab": {
          "base_uri": "https://localhost:8080/"
        },
        "id": "Zt6wXa3IyO8r",
        "outputId": "e9d8a22b-8e92-4ef6-b010-822331b7753b",
        "scrolled": true
      },
      "outputs": [
        {
          "output_type": "stream",
          "name": "stdout",
          "text": [
            "Epoch 1/100\n",
            " 5/58 [=>............................] - ETA: 0s - loss: 0.2078 - accuracy: 0.9258"
          ]
        },
        {
          "output_type": "stream",
          "name": "stderr",
          "text": [
            "/usr/local/lib/python3.7/dist-packages/ipykernel_launcher.py:5: UserWarning: `Model.fit_generator` is deprecated and will be removed in a future version. Please use `Model.fit`, which supports generators.\n",
            "  \"\"\"\n"
          ]
        },
        {
          "output_type": "stream",
          "name": "stdout",
          "text": [
            "58/58 [==============================] - 2s 32ms/step - loss: 0.2029 - accuracy: 0.9244 - val_loss: 0.2869 - val_accuracy: 0.9016\n",
            "Epoch 2/100\n",
            "58/58 [==============================] - 2s 30ms/step - loss: 0.2016 - accuracy: 0.9245 - val_loss: 0.2827 - val_accuracy: 0.9003\n",
            "Epoch 3/100\n",
            "58/58 [==============================] - 2s 30ms/step - loss: 0.1976 - accuracy: 0.9269 - val_loss: 0.3004 - val_accuracy: 0.8915\n",
            "Epoch 4/100\n",
            "58/58 [==============================] - 2s 31ms/step - loss: 0.1966 - accuracy: 0.9273 - val_loss: 0.2876 - val_accuracy: 0.8991\n",
            "Epoch 5/100\n",
            "58/58 [==============================] - 3s 45ms/step - loss: 0.1950 - accuracy: 0.9272 - val_loss: 0.2909 - val_accuracy: 0.8978\n",
            "Epoch 6/100\n",
            "58/58 [==============================] - 2s 41ms/step - loss: 0.1938 - accuracy: 0.9272 - val_loss: 0.2903 - val_accuracy: 0.8994\n",
            "Epoch 7/100\n",
            "58/58 [==============================] - 2s 42ms/step - loss: 0.1961 - accuracy: 0.9257 - val_loss: 0.2982 - val_accuracy: 0.8981\n",
            "Epoch 8/100\n",
            "58/58 [==============================] - 2s 42ms/step - loss: 0.1921 - accuracy: 0.9288 - val_loss: 0.2847 - val_accuracy: 0.8999\n",
            "Epoch 9/100\n",
            "58/58 [==============================] - 2s 41ms/step - loss: 0.1891 - accuracy: 0.9298 - val_loss: 0.2897 - val_accuracy: 0.8998\n",
            "Epoch 10/100\n",
            "58/58 [==============================] - 2s 31ms/step - loss: 0.1850 - accuracy: 0.9313 - val_loss: 0.2848 - val_accuracy: 0.8998\n",
            "Epoch 11/100\n",
            "58/58 [==============================] - 2s 31ms/step - loss: 0.1876 - accuracy: 0.9293 - val_loss: 0.3044 - val_accuracy: 0.8927\n",
            "Epoch 12/100\n",
            "58/58 [==============================] - 2s 42ms/step - loss: 0.1858 - accuracy: 0.9296 - val_loss: 0.2910 - val_accuracy: 0.9028\n"
          ]
        },
        {
          "output_type": "execute_result",
          "data": {
            "text/plain": [
              "<keras.callbacks.History at 0x7fabc2beff90>"
            ]
          },
          "metadata": {},
          "execution_count": 12
        }
      ],
      "source": [
        "# TODO: train your model\n",
        "batch_size = 1024\n",
        "model.fit_generator(datagen.flow(X_train_norm, y_train_cat, batch_size=batch_size),\n",
        "                    validation_data=(X_test_norm, y_test_cat), callbacks=callbacks,\n",
        "                    steps_per_epoch=len(X_train_norm) / batch_size, epochs=100)"
      ]
    },
    {
      "cell_type": "markdown",
      "metadata": {
        "id": "NuzFke8pyO8r"
      },
      "source": [
        "Recompute the accuracy of your model, does it improve your performances with data augmentation?"
      ]
    },
    {
      "cell_type": "code",
      "execution_count": 13,
      "metadata": {
        "colab": {
          "base_uri": "https://localhost:8080/"
        },
        "id": "jsTm86tuyO8r",
        "outputId": "c60e5b62-603c-4077-d282-10ebca55ae9f"
      },
      "outputs": [
        {
          "output_type": "stream",
          "name": "stdout",
          "text": [
            "accuracy on train with CNN: 0.9358666666666666\n",
            "accuracy on test with CNN: 0.9028\n"
          ]
        }
      ],
      "source": [
        "# TODO: Compute the accuracy of your model\n",
        "from sklearn.metrics import accuracy_score\n",
        "\n",
        "batch_size=1024\n",
        "y_pred_train = to_categorical(model.predict(X_train_norm, batch_size=batch_size).argmax(axis=1), num_classes=10)\n",
        "y_pred_test = to_categorical(model.predict(X_test_norm, batch_size=batch_size).argmax(axis=1), num_classes=10)\n",
        "\n",
        "print('accuracy on train with CNN:', accuracy_score(y_pred_train, y_train_cat))\n",
        "print('accuracy on test with CNN:', accuracy_score(y_pred_test, y_test_cat))"
      ]
    },
    {
      "cell_type": "markdown",
      "metadata": {
        "id": "jOzkdGf7yO8s"
      },
      "source": [
        "You can now try to improve even more your results. For example, add more parameters to your `ImageDataGenerator`, play with some hyperparameters, and so on..."
      ]
    }
  ],
  "metadata": {
    "accelerator": "GPU",
    "colab": {
      "name": "LeNet5.ipynb",
      "provenance": []
    },
    "kernelspec": {
      "display_name": "Python 3",
      "language": "python",
      "name": "python3"
    },
    "language_info": {
      "codemirror_mode": {
        "name": "ipython",
        "version": 3
      },
      "file_extension": ".py",
      "mimetype": "text/x-python",
      "name": "python",
      "nbconvert_exporter": "python",
      "pygments_lexer": "ipython3",
      "version": "3.7.4"
    },
    "toc": {
      "base_numbering": 1,
      "nav_menu": {},
      "number_sections": true,
      "sideBar": true,
      "skip_h1_title": false,
      "title_cell": "Table of Contents",
      "title_sidebar": "Contents",
      "toc_cell": false,
      "toc_position": {},
      "toc_section_display": true,
      "toc_window_display": false
    },
    "varInspector": {
      "cols": {
        "lenName": 16,
        "lenType": 16,
        "lenVar": 40
      },
      "kernels_config": {
        "python": {
          "delete_cmd_postfix": "",
          "delete_cmd_prefix": "del ",
          "library": "var_list.py",
          "varRefreshCmd": "print(var_dic_list())"
        },
        "r": {
          "delete_cmd_postfix": ") ",
          "delete_cmd_prefix": "rm(",
          "library": "var_list.r",
          "varRefreshCmd": "cat(var_dic_list()) "
        }
      },
      "types_to_exclude": [
        "module",
        "function",
        "builtin_function_or_method",
        "instance",
        "_Feature"
      ],
      "window_display": false
    }
  },
  "nbformat": 4,
  "nbformat_minor": 0
}