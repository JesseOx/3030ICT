{
 "cells": [
  {
   "cell_type": "code",
   "execution_count": 38,
   "id": "7512830a",
   "metadata": {},
   "outputs": [
    {
     "name": "stderr",
     "output_type": "stream",
     "text": [
      "C:\\Users\\jpo-0\\AppData\\Local\\Temp\\ipykernel_15460\\3940270650.py:3: DtypeWarning: Columns (0,4,5,6,7) have mixed types. Specify dtype option on import or set low_memory=False.\n",
      "  df = pd.read_csv(\"data.csv\")\n"
     ]
    }
   ],
   "source": [
    "import pandas as pd\n",
    "import numpy as np\n",
    "df = pd.read_csv(\"data.csv\")"
   ]
  },
  {
   "cell_type": "code",
   "execution_count": 39,
   "id": "e2806c85",
   "metadata": {},
   "outputs": [
    {
     "data": {
      "text/plain": [
       "0"
      ]
     },
     "execution_count": 39,
     "metadata": {},
     "output_type": "execute_result"
    }
   ],
   "source": [
    "df.duplicated().sum()\n",
    "df.duplicated(subset='Id').sum()"
   ]
  },
  {
   "cell_type": "code",
   "execution_count": 40,
   "id": "6a555807",
   "metadata": {},
   "outputs": [],
   "source": [
    "df['AverageSalary'] = df[['LowestSalary', 'HighestSalary']].mean(axis=1)"
   ]
  },
  {
   "cell_type": "code",
   "execution_count": 41,
   "id": "cc72c535",
   "metadata": {},
   "outputs": [
    {
     "data": {
      "text/plain": [
       "0"
      ]
     },
     "execution_count": 41,
     "metadata": {},
     "output_type": "execute_result"
    }
   ],
   "source": [
    "# df.duplicated().sum()\n",
    "df.duplicated(subset='Id').sum()"
   ]
  },
  {
   "cell_type": "code",
   "execution_count": 45,
   "id": "968305d7",
   "metadata": {},
   "outputs": [
    {
     "data": {
      "text/plain": [
       "14165"
      ]
     },
     "execution_count": 45,
     "metadata": {},
     "output_type": "execute_result"
    }
   ],
   "source": [
    "df['Id'] = df['Id'].replace(to_replace=r'(?<=\\d{8}).*', regex=True, value='')\n",
    "\n",
    "df['Date'] = df['Date'].replace(to_replace=r'(?<=^\\d{4}-\\d{2}-\\d{2}).*', regex=True, value='')\n",
    "\n",
    "df[\"Date\"] = pd.to_datetime(df[\"Date\"])\n",
    "\n",
    "df[\"Id\"] = pd.to_numeric(df[\"Id\"])\n",
    "df.duplicated(subset='Id').sum()"
   ]
  },
  {
   "cell_type": "code",
   "execution_count": 46,
   "id": "ba26bca3",
   "metadata": {},
   "outputs": [],
   "source": [
    "df = df.drop_duplicates()"
   ]
  },
  {
   "cell_type": "code",
   "execution_count": 64,
   "id": "7a56d33b",
   "metadata": {},
   "outputs": [
    {
     "data": {
      "text/html": [
       "<div>\n",
       "<style scoped>\n",
       "    .dataframe tbody tr th:only-of-type {\n",
       "        vertical-align: middle;\n",
       "    }\n",
       "\n",
       "    .dataframe tbody tr th {\n",
       "        vertical-align: top;\n",
       "    }\n",
       "\n",
       "    .dataframe thead th {\n",
       "        text-align: right;\n",
       "    }\n",
       "</style>\n",
       "<table border=\"1\" class=\"dataframe\">\n",
       "  <thead>\n",
       "    <tr style=\"text-align: right;\">\n",
       "      <th></th>\n",
       "      <th>Id</th>\n",
       "      <th>Title</th>\n",
       "      <th>Company</th>\n",
       "      <th>Date</th>\n",
       "      <th>Location</th>\n",
       "      <th>Area</th>\n",
       "      <th>Classification</th>\n",
       "      <th>SubClassification</th>\n",
       "      <th>Requirement</th>\n",
       "      <th>FullDescription</th>\n",
       "      <th>LowestSalary</th>\n",
       "      <th>HighestSalary</th>\n",
       "      <th>JobType</th>\n",
       "      <th>AverageSalary</th>\n",
       "    </tr>\n",
       "  </thead>\n",
       "  <tbody>\n",
       "    <tr>\n",
       "      <th>152403</th>\n",
       "      <td>37706841</td>\n",
       "      <td>Administrator &amp; Accounts Manager</td>\n",
       "      <td>Rose Litigation Lawyers</td>\n",
       "      <td>2018-11-13</td>\n",
       "      <td>Brisbane</td>\n",
       "      <td>CBD &amp; Inner Suburbs</td>\n",
       "      <td>Legal</td>\n",
       "      <td>Legal Practice Management</td>\n",
       "      <td>An Administration &amp; Accounts manager is requir...</td>\n",
       "      <td>&lt;p&gt;An exciting opportunity has arisen due to t...</td>\n",
       "      <td>0</td>\n",
       "      <td>30</td>\n",
       "      <td>Full Time</td>\n",
       "      <td>15.0</td>\n",
       "    </tr>\n",
       "    <tr>\n",
       "      <th>154799</th>\n",
       "      <td>37706841</td>\n",
       "      <td>Administrator &amp; Accounts Manager</td>\n",
       "      <td>Rose Litigation Lawyers</td>\n",
       "      <td>2018-12-11</td>\n",
       "      <td>Brisbane</td>\n",
       "      <td>CBD &amp; Inner Suburbs</td>\n",
       "      <td>Legal</td>\n",
       "      <td>Legal Practice Management</td>\n",
       "      <td>An Administration &amp; Accounts manager is requir...</td>\n",
       "      <td>NaN</td>\n",
       "      <td>0</td>\n",
       "      <td>30</td>\n",
       "      <td>NaN</td>\n",
       "      <td>15.0</td>\n",
       "    </tr>\n",
       "  </tbody>\n",
       "</table>\n",
       "</div>"
      ],
      "text/plain": [
       "              Id                             Title                  Company  \\\n",
       "152403  37706841  Administrator & Accounts Manager  Rose Litigation Lawyers   \n",
       "154799  37706841  Administrator & Accounts Manager  Rose Litigation Lawyers   \n",
       "\n",
       "             Date  Location                 Area Classification  \\\n",
       "152403 2018-11-13  Brisbane  CBD & Inner Suburbs          Legal   \n",
       "154799 2018-12-11  Brisbane  CBD & Inner Suburbs          Legal   \n",
       "\n",
       "                SubClassification  \\\n",
       "152403  Legal Practice Management   \n",
       "154799  Legal Practice Management   \n",
       "\n",
       "                                              Requirement  \\\n",
       "152403  An Administration & Accounts manager is requir...   \n",
       "154799  An Administration & Accounts manager is requir...   \n",
       "\n",
       "                                          FullDescription  LowestSalary  \\\n",
       "152403  <p>An exciting opportunity has arisen due to t...             0   \n",
       "154799                                                NaN             0   \n",
       "\n",
       "        HighestSalary    JobType  AverageSalary  \n",
       "152403             30  Full Time           15.0  \n",
       "154799             30        NaN           15.0  "
      ]
     },
     "execution_count": 64,
     "metadata": {},
     "output_type": "execute_result"
    }
   ],
   "source": [
    "# df.duplicated(subset='Id').sum()\n",
    "# df.loc[df.duplicated(subset='Id')]\n",
    "# df.head()\n",
    "df.loc[df['Id'] == 37706841]"
   ]
  },
  {
   "cell_type": "code",
   "execution_count": null,
   "id": "3affce4a",
   "metadata": {},
   "outputs": [],
   "source": []
  }
 ],
 "metadata": {
  "kernelspec": {
   "display_name": "Python 3 (ipykernel)",
   "language": "python",
   "name": "python3"
  },
  "language_info": {
   "codemirror_mode": {
    "name": "ipython",
    "version": 3
   },
   "file_extension": ".py",
   "mimetype": "text/x-python",
   "name": "python",
   "nbconvert_exporter": "python",
   "pygments_lexer": "ipython3",
   "version": "3.9.2"
  }
 },
 "nbformat": 4,
 "nbformat_minor": 5
}
